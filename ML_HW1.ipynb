{
  "nbformat": 4,
  "nbformat_minor": 0,
  "metadata": {
    "colab": {
      "provenance": []
    },
    "kernelspec": {
      "name": "python3",
      "display_name": "Python 3"
    },
    "language_info": {
      "name": "python"
    }
  },
  "cells": [
    {
      "cell_type": "markdown",
      "source": [
        "利用不同的分割數量來測試最佳結果\n",
        "(固定:隨機種子\n",
        "改變:分割比例)"
      ],
      "metadata": {
        "id": "2eFx_mdpj3d3"
      }
    },
    {
      "cell_type": "code",
      "execution_count": 8,
      "metadata": {
        "id": "uix_1XhYkDTd",
        "colab": {
          "base_uri": "https://localhost:8080/"
        },
        "outputId": "5b1ed550-2c93-40c9-85b4-addefb5726b1"
      },
      "outputs": [
        {
          "output_type": "stream",
          "name": "stdout",
          "text": [
            "size= 0.1 ; r2_score= 0.9187878236198551\n",
            "size= 0.15 ; r2_score= 0.9202416107764795\n",
            "size= 0.2 ; r2_score= 0.921869019942864\n",
            "size= 0.25 ; r2_score= 0.9218415939601141\n",
            "size= 0.3 ; r2_score= 0.9216604865707125\n",
            "size= 0.35 ; r2_score= 0.920546043872861\n",
            "size= 0.4 ; r2_score= 0.9209420053364821\n",
            "size= 0.45 ; r2_score= 0.9212162701760809\n",
            "size= 0.5 ; r2_score= 0.9198740696104678\n",
            "size= 0.55 ; r2_score= 0.9203980819458073\n",
            "size= 0.6 ; r2_score= 0.918482346971403\n",
            "size= 0.65 ; r2_score= 0.917718870990137\n",
            "size= 0.7 ; r2_score= 0.9181591516042956\n",
            "size= 0.75 ; r2_score= 0.9179885390134062\n",
            "size= 0.8 ; r2_score= 0.9174263420563451\n",
            "size= 0.85 ; r2_score= 0.9177929916072157\n",
            "size= 0.9 ; r2_score= 0.9172411952056024\n",
            "size= 0.95 ; r2_score= 0.9175734269182567\n",
            "max_r2= 0.921869019942864 ,size= 0.2 ; min_r2 0.9172411952056024 size= 0.9\n"
          ]
        }
      ],
      "source": [
        "import pandas as pd\n",
        "import numpy as np\n",
        "import matplotlib.pyplot as plt\n",
        "import seaborn as sns\n",
        "df=pd.read_csv(\"https://raw.githubusercontent.com/ryanchung403/dataset/main/Housing_Dataset_Sample.csv\")\n",
        "X=df.iloc[:,:5]\n",
        "y=df['Price']\n",
        "\n",
        "from sklearn.model_selection import train_test_split\n",
        "from sklearn.linear_model import LinearRegression\n",
        "from sklearn.metrics import r2_score\n",
        "size=np.arange(0.1,1,0.05)\n",
        "max=0\n",
        "max_size=0\n",
        "min=1\n",
        "min_size=0\n",
        "for i in size:\n",
        "  X_train, X_test, y_train, y_test = train_test_split(X,y,test_size=np.round(i,2),random_state=54)\n",
        "  reg = LinearRegression()\n",
        "  reg.fit(X_train, y_train)\n",
        "  predictions = reg.predict(X_test)\n",
        "  if r2_score(y_test, predictions) > max:\n",
        "    max=r2_score(y_test, predictions)\n",
        "    max_size=i\n",
        "  if r2_score(y_test, predictions) < min:\n",
        "    min=r2_score(y_test, predictions)\n",
        "    min_size=i\n",
        "  print(\"size=\",np.round(i,2),\";\",\"r2_score=\",r2_score(y_test, predictions))\n",
        "print(\"max_r2=\",max,\",size=\",np.round(max_size,2),\";\",\"min_r2\",min,\"size=\",np.round(min_size,2))"
      ]
    },
    {
      "cell_type": "markdown",
      "source": [
        "結論:在此情況下以0.2分割資料會有最好效果"
      ],
      "metadata": {
        "id": "PUEMrwsir7qy"
      }
    },
    {
      "cell_type": "markdown",
      "source": [
        "其他種子測試A"
      ],
      "metadata": {
        "id": "rL_51i6EyX2c"
      }
    },
    {
      "cell_type": "code",
      "source": [
        "max=0\n",
        "max_size=0\n",
        "min=1\n",
        "min_size=0\n",
        "for i in size:\n",
        "  X_train, X_test, y_train, y_test = train_test_split(X,y,test_size=np.round(i,2),random_state=67)\n",
        "  reg = LinearRegression()\n",
        "  reg.fit(X_train, y_train)\n",
        "  predictions = reg.predict(X_test)\n",
        "  if r2_score(y_test, predictions) > max:\n",
        "    max=r2_score(y_test, predictions)\n",
        "    max_size=i\n",
        "  if r2_score(y_test, predictions) < min:\n",
        "    min=r2_score(y_test, predictions)\n",
        "    min_size=i\n",
        "  print(\"size=\",np.round(i,2),\";\",\"r2_score=\",r2_score(y_test, predictions))\n",
        "print(\"max_r2=\",max,\",size=\",np.round(max_size,2),\";\",\"min_r2\",min,\"size=\",np.round(min_size,2))"
      ],
      "metadata": {
        "colab": {
          "base_uri": "https://localhost:8080/"
        },
        "id": "ayVWQNlVlI0m",
        "outputId": "e878b1df-5eb4-4a60-984e-a658274a8d85"
      },
      "execution_count": 9,
      "outputs": [
        {
          "output_type": "stream",
          "name": "stdout",
          "text": [
            "size= 0.1 ; r2_score= 0.9194340484781719\n",
            "size= 0.15 ; r2_score= 0.9212118697336821\n",
            "size= 0.2 ; r2_score= 0.9222012618993211\n",
            "size= 0.25 ; r2_score= 0.9202425384512791\n",
            "size= 0.3 ; r2_score= 0.9182901091809097\n",
            "size= 0.35 ; r2_score= 0.9186204539967804\n",
            "size= 0.4 ; r2_score= 0.9193208891843628\n",
            "size= 0.45 ; r2_score= 0.9209638588883592\n",
            "size= 0.5 ; r2_score= 0.9199244635473186\n",
            "size= 0.55 ; r2_score= 0.9205602878900857\n",
            "size= 0.6 ; r2_score= 0.9199921801359692\n",
            "size= 0.65 ; r2_score= 0.9197666354108226\n",
            "size= 0.7 ; r2_score= 0.9207282948382203\n",
            "size= 0.75 ; r2_score= 0.9198006811932805\n",
            "size= 0.8 ; r2_score= 0.9197663024800906\n",
            "size= 0.85 ; r2_score= 0.9188508646659133\n",
            "size= 0.9 ; r2_score= 0.9172546552112577\n",
            "size= 0.95 ; r2_score= 0.9139955291301551\n",
            "max_r2= 0.9222012618993211 ,size= 0.2 ; min_r2 0.9139955291301551 size= 0.95\n"
          ]
        }
      ]
    },
    {
      "cell_type": "markdown",
      "source": [
        "其他種子測試B"
      ],
      "metadata": {
        "id": "9h8G0g8pybRk"
      }
    },
    {
      "cell_type": "code",
      "source": [
        "max=0\n",
        "max_size=0\n",
        "min=1\n",
        "min_size=0\n",
        "for i in size:\n",
        "  X_train, X_test, y_train, y_test = train_test_split(X,y,test_size=np.round(i,2),random_state=92)\n",
        "  reg = LinearRegression()\n",
        "  reg.fit(X_train, y_train)\n",
        "  predictions = reg.predict(X_test)\n",
        "  if r2_score(y_test, predictions) > max:\n",
        "    max=r2_score(y_test, predictions)\n",
        "    max_size=i\n",
        "  if r2_score(y_test, predictions) < min:\n",
        "    min=r2_score(y_test, predictions)\n",
        "    min_size=i\n",
        "  print(\"size=\",np.round(i,2),\";\",\"r2_score=\",r2_score(y_test, predictions))\n",
        "print(\"max_r2=\",max,\",size=\",np.round(max_size,2),\";\",\"min_r2\",min,\"size=\",np.round(min_size,2))"
      ],
      "metadata": {
        "colab": {
          "base_uri": "https://localhost:8080/"
        },
        "id": "hzKlalLXsSN6",
        "outputId": "38d0bf3a-0a05-4d15-b494-b9d25a541631"
      },
      "execution_count": 10,
      "outputs": [
        {
          "output_type": "stream",
          "name": "stdout",
          "text": [
            "size= 0.1 ; r2_score= 0.9068592010566223\n",
            "size= 0.15 ; r2_score= 0.9079016390305945\n",
            "size= 0.2 ; r2_score= 0.9101056689556257\n",
            "size= 0.25 ; r2_score= 0.9141188765094295\n",
            "size= 0.3 ; r2_score= 0.9181600539924448\n",
            "size= 0.35 ; r2_score= 0.9177941426555084\n",
            "size= 0.4 ; r2_score= 0.9194222963440216\n",
            "size= 0.45 ; r2_score= 0.920137539834828\n",
            "size= 0.5 ; r2_score= 0.92037510315466\n",
            "size= 0.55 ; r2_score= 0.9187507976927488\n",
            "size= 0.6 ; r2_score= 0.9174563030884348\n",
            "size= 0.65 ; r2_score= 0.9185150540667615\n",
            "size= 0.7 ; r2_score= 0.9175064111154941\n",
            "size= 0.75 ; r2_score= 0.9173425298349733\n",
            "size= 0.8 ; r2_score= 0.9172752596620253\n",
            "size= 0.85 ; r2_score= 0.91712292457828\n",
            "size= 0.9 ; r2_score= 0.9165549183837023\n",
            "size= 0.95 ; r2_score= 0.9133152258322391\n",
            "max_r2= 0.92037510315466 ,size= 0.5 ; min_r2 0.9068592010566223 size= 0.1\n"
          ]
        }
      ]
    },
    {
      "cell_type": "markdown",
      "source": [
        "其他種子測試C"
      ],
      "metadata": {
        "id": "3SO_2oBKSVUo"
      }
    },
    {
      "cell_type": "code",
      "source": [
        "max=0\n",
        "max_size=0\n",
        "min=1\n",
        "min_size=0\n",
        "for i in size:\n",
        "  X_train, X_test, y_train, y_test = train_test_split(X,y,test_size=np.round(i,2),random_state=12)\n",
        "  reg = LinearRegression()\n",
        "  reg.fit(X_train, y_train)\n",
        "  predictions = reg.predict(X_test)\n",
        "  if r2_score(y_test, predictions) > max:\n",
        "    max=r2_score(y_test, predictions)\n",
        "    max_size=i\n",
        "  if r2_score(y_test, predictions) < min:\n",
        "    min=r2_score(y_test, predictions)\n",
        "    min_size=i\n",
        "  print(\"size=\",np.round(i,2),\";\",\"r2_score=\",r2_score(y_test, predictions))\n",
        "print(\"max_r2=\",max,\",size=\",np.round(max_size,2),\";\",\"min_r2\",min,\"size=\",np.round(min_size,2))"
      ],
      "metadata": {
        "colab": {
          "base_uri": "https://localhost:8080/"
        },
        "id": "yHNLXVVySU3o",
        "outputId": "e3528499-9898-4441-a001-9136ef5e568a"
      },
      "execution_count": 11,
      "outputs": [
        {
          "output_type": "stream",
          "name": "stdout",
          "text": [
            "size= 0.1 ; r2_score= 0.9138624745309998\n",
            "size= 0.15 ; r2_score= 0.9126024847442088\n",
            "size= 0.2 ; r2_score= 0.9121850959050979\n",
            "size= 0.25 ; r2_score= 0.9131337702396034\n",
            "size= 0.3 ; r2_score= 0.9137067537954536\n",
            "size= 0.35 ; r2_score= 0.9170137542169254\n",
            "size= 0.4 ; r2_score= 0.9158124813165343\n",
            "size= 0.45 ; r2_score= 0.9166969744563979\n",
            "size= 0.5 ; r2_score= 0.9158240345161887\n",
            "size= 0.55 ; r2_score= 0.9154469148166485\n",
            "size= 0.6 ; r2_score= 0.9158362891788723\n",
            "size= 0.65 ; r2_score= 0.9155188811317749\n",
            "size= 0.7 ; r2_score= 0.9161693791699259\n",
            "size= 0.75 ; r2_score= 0.9159812135435635\n",
            "size= 0.8 ; r2_score= 0.9155970091201231\n",
            "size= 0.85 ; r2_score= 0.9154519234783931\n",
            "size= 0.9 ; r2_score= 0.915831112206322\n",
            "size= 0.95 ; r2_score= 0.9161829156081035\n",
            "max_r2= 0.9170137542169254 ,size= 0.35 ; min_r2 0.9121850959050979 size= 0.2\n"
          ]
        }
      ]
    }
  ]
}